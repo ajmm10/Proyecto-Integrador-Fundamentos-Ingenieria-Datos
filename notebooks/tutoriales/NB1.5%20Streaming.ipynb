{
  "cells": [
    {
      "cell_type": "markdown",
      "source": [
        "# NB1.5 — Streaming vs Batch (WebSockets & Polling)\n",
        "\n",
        "En esta práctica implementamos **Streaming** con WebSockets y **Batch frecuente** con HTTP Polling. Guardaremos todo en **JSON Lines** en `../../data/` y compararemos latencia y continuidad.\n",
        "\n",
        "**Objetivos**\n",
        "- Entender diferencias clave **Batch vs Streaming**.\n",
        "- Ejecutar un cliente **WebSocket** para ingesta continua.\n",
        "- Ejecutar **HTTP Polling** como micro-batch.\n",
        "- Comparar resultados en pandas.\n"
      ],
      "metadata": {},
      "id": "579de733-f5e7-4735-8c4e-0b7c10c72ff7"
    },
    {
      "cell_type": "markdown",
      "source": [
        "## 1) Dependencias\n",
        "Instalamos librerías requeridas para los scripts en `src/streaming/`."
      ],
      "metadata": {},
      "id": "82b0f4a3-9620-4f63-ad56-2238caa222fd"
    },
    {
      "cell_type": "code",
      "source": [
        "!pip install -q websockets requests pandas"
      ],
      "outputs": [],
      "execution_count": 7,
      "metadata": {
        "id": "deps"
      },
      "id": "4f907eef-9b0a-41b4-be51-a62dfead0e04"
    },
    {
      "cell_type": "markdown",
      "source": [
        "## 2) Streaming (WebSocket)\n",
        "\n",
        "**Salida:** `../../data/stream_ws_YYYY-MM-DD.jsonl`"
      ],
      "metadata": {},
      "id": "0224a5f1-1851-4fc5-97f9-9d12e36a1ca1"
    },
    {
      "cell_type": "code",
      "source": [
        "# Limita duración/eventos para la clase\n",
        "!WS_MAX_EVENTS=150 WS_MAX_SECONDS=120 python ../../src/streaming/stream_dual_ws.py"
      ],
      "outputs": [
        {
          "output_type": "stream",
          "name": "stdout",
          "text": "/Users/didiergamboa/Documents/Tecnológico de Software/Cuatrimestres/2025 Q3 Septiembre-Diciembre/Fundamentos de Big Data/Proyecto Integrador - Fundamentos de Ingeniería de Datos/fundamentos-ingenieria-datos/notebooks/tutoriales/../../src/streaming/stream_dual_ws.py:8: DeprecationWarning: websockets.exceptions.InvalidStatusCode is deprecated\n  from websockets.exceptions import ConnectionClosed, InvalidStatusCode\n[DONE] Eventos: 150\n/Users/didiergamboa/Documents/Tecnológico de Software/Cuatrimestres/2025 Q3 Septiembre-Diciembre/Fundamentos de Big Data/Proyecto Integrador - Fundamentos de Ingeniería de Datos/fundamentos-ingenieria-datos/data/stream_ws_2025-09-24.jsonl\n"
        }
      ],
      "execution_count": 9,
      "metadata": {
        "id": "stream"
      },
      "id": "3c910a0d-9d29-444a-b303-a521be4a705e"
    },
    {
      "cell_type": "markdown",
      "source": [
        "## 3) Polling (HTTP)\n",
        "\n",
        "**Salida:** `../../data/poll_bitcoin_YYYY-MM-DD.jsonl`"
      ],
      "metadata": {},
      "id": "e0dd46b8-8ab2-4f15-b8f6-bfa5d971fd31"
    },
    {
      "cell_type": "code",
      "source": [
        "!python ../../src/streaming/poll_coincap_http.py"
      ],
      "outputs": [
        {
          "output_type": "stream",
          "name": "stdout",
          "text": "[POLL] 1/20 -> {'ts': '2025-09-24T21:04:40.311738+00:00', 'source': 'binance', 'instrument': 'BTCUSDT', 'price_usd': 113501.39}\n[POLL] 2/20 -> {'ts': '2025-09-24T21:04:45.582810+00:00', 'source': 'binance', 'instrument': 'BTCUSDT', 'price_usd': 113501.39}\n[POLL] 3/20 -> {'ts': '2025-09-24T21:04:50.851553+00:00', 'source': 'binance', 'instrument': 'BTCUSDT', 'price_usd': 113501.39}\n[POLL] 4/20 -> {'ts': '2025-09-24T21:04:56.124504+00:00', 'source': 'binance', 'instrument': 'BTCUSDT', 'price_usd': 113501.4}\n[POLL] 5/20 -> {'ts': '2025-09-24T21:05:01.408466+00:00', 'source': 'binance', 'instrument': 'BTCUSDT', 'price_usd': 113501.39}\n[POLL] 6/20 -> {'ts': '2025-09-24T21:05:06.697973+00:00', 'source': 'binance', 'instrument': 'BTCUSDT', 'price_usd': 113501.4}\n[POLL] 7/20 -> {'ts': '2025-09-24T21:05:12.298638+00:00', 'source': 'binance', 'instrument': 'BTCUSDT', 'price_usd': 113501.4}\n[POLL] 8/20 -> {'ts': '2025-09-24T21:05:17.569889+00:00', 'source': 'binance', 'instrument': 'BTCUSDT', 'price_usd': 113501.4}\n[POLL] 9/20 -> {'ts': '2025-09-24T21:05:22.868441+00:00', 'source': 'binance', 'instrument': 'BTCUSDT', 'price_usd': 113509.72}\n[POLL] 10/20 -> {'ts': '2025-09-24T21:05:28.152665+00:00', 'source': 'binance', 'instrument': 'BTCUSDT', 'price_usd': 113509.72}\n[POLL] 11/20 -> {'ts': '2025-09-24T21:05:33.436703+00:00', 'source': 'binance', 'instrument': 'BTCUSDT', 'price_usd': 113509.72}\n[POLL] 12/20 -> {'ts': '2025-09-24T21:05:38.705172+00:00', 'source': 'binance', 'instrument': 'BTCUSDT', 'price_usd': 113509.72}\n[POLL] 13/20 -> {'ts': '2025-09-24T21:05:43.979018+00:00', 'source': 'binance', 'instrument': 'BTCUSDT', 'price_usd': 113509.73}\n[POLL] 14/20 -> {'ts': '2025-09-24T21:05:49.252271+00:00', 'source': 'binance', 'instrument': 'BTCUSDT', 'price_usd': 113509.73}\n[POLL] 15/20 -> {'ts': '2025-09-24T21:05:54.512556+00:00', 'source': 'binance', 'instrument': 'BTCUSDT', 'price_usd': 113509.73}\n[POLL] 16/20 -> {'ts': '2025-09-24T21:05:59.811760+00:00', 'source': 'binance', 'instrument': 'BTCUSDT', 'price_usd': 113509.73}\n[POLL] 17/20 -> {'ts': '2025-09-24T21:06:05.078613+00:00', 'source': 'binance', 'instrument': 'BTCUSDT', 'price_usd': 113509.72}\n[POLL] 18/20 -> {'ts': '2025-09-24T21:06:10.351352+00:00', 'source': 'binance', 'instrument': 'BTCUSDT', 'price_usd': 113509.73}\n[POLL] 19/20 -> {'ts': '2025-09-24T21:06:15.629979+00:00', 'source': 'binance', 'instrument': 'BTCUSDT', 'price_usd': 113509.73}\n[POLL] 20/20 -> {'ts': '2025-09-24T21:06:20.896191+00:00', 'source': 'binance', 'instrument': 'BTCUSDT', 'price_usd': 113509.73}\n[DONE] Archivo: /Users/didiergamboa/Documents/Tecnológico de Software/Cuatrimestres/2025 Q3 Septiembre-Diciembre/Fundamentos de Big Data/Proyecto Integrador - Fundamentos de Ingeniería de Datos/fundamentos-ingenieria-datos/data/poll_binance_BTCUSDT_2025-09-24.jsonl\n"
        }
      ],
      "execution_count": 10,
      "metadata": {
        "id": "poll"
      },
      "id": "71abe943-1713-47ff-9acf-27f16025f189"
    },
    {
      "cell_type": "markdown",
      "source": [
        "## 4) Cargar y comparar en pandas\n",
        "Leemos ambos `.jsonl` y observamos diferencias de granularidad/latencia (aprox.)."
      ],
      "metadata": {},
      "id": "a9a05399-4245-43ba-8c76-beac043f4e82"
    },
    {
      "cell_type": "code",
      "source": [
        "from pathlib import Path\n",
        "import pandas as pd\n",
        "\n",
        "data_dir = Path(\"../../data\")\n",
        "\n",
        "# STREAM\n",
        "stream_file = sorted(data_dir.glob(\"stream_ws_*.jsonl\"))[-1]\n",
        "df_stream = pd.read_json(stream_file, lines=True)\n",
        "print(\"STREAM:\", stream_file)\n",
        "display(df_stream.head())\n",
        "\n",
        "# POLL \n",
        "poll_files = sorted(list(data_dir.glob(\"poll_binance_*.jsonl\")) + list(data_dir.glob(\"poll_coincap_*.jsonl\")))\n",
        "poll_file = poll_files[-1]\n",
        "df_poll = pd.read_json(poll_file, lines=True)\n",
        "print(\"POLL:\", poll_file)\n",
        "display(df_poll.head())\n"
      ],
      "outputs": [
        {
          "output_type": "stream",
          "name": "stdout",
          "text": "STREAM: ../../data/stream_ws_2025-09-24.jsonl\n"
        },
        {
          "output_type": "display_data",
          "data": {
            "text/html": "<div>\n<style scoped>\n    .dataframe tbody tr th:only-of-type {\n        vertical-align: middle;\n    }\n\n    .dataframe tbody tr th {\n        vertical-align: top;\n    }\n\n    .dataframe thead th {\n        text-align: right;\n    }\n</style>\n<table border=\"1\" class=\"dataframe\">\n  <thead>\n    <tr style=\"text-align: right;\">\n      <th></th>\n      <th>_probe</th>\n      <th>ts</th>\n      <th>source</th>\n      <th>instrument</th>\n      <th>price</th>\n      <th>currency</th>\n      <th>qty</th>\n      <th>trade_id</th>\n    </tr>\n  </thead>\n  <tbody>\n    <tr>\n      <th>0</th>\n      <td>1.0</td>\n      <td>2025-09-24T20:31:35.921395+00:00</td>\n      <td>NaN</td>\n      <td>NaN</td>\n      <td>NaN</td>\n      <td>NaN</td>\n      <td>NaN</td>\n      <td>NaN</td>\n    </tr>\n    <tr>\n      <th>1</th>\n      <td>NaN</td>\n      <td>2025-09-24T20:31:38.079193+00:00</td>\n      <td>binance</td>\n      <td>BTCUSDT</td>\n      <td>113492.94</td>\n      <td>USDT</td>\n      <td>0.00041</td>\n      <td>5.254305e+09</td>\n    </tr>\n    <tr>\n      <th>2</th>\n      <td>NaN</td>\n      <td>2025-09-24T20:31:38.080583+00:00</td>\n      <td>binance</td>\n      <td>BTCUSDT</td>\n      <td>113492.94</td>\n      <td>USDT</td>\n      <td>0.00080</td>\n      <td>5.254305e+09</td>\n    </tr>\n    <tr>\n      <th>3</th>\n      <td>NaN</td>\n      <td>2025-09-24T20:31:38.081120+00:00</td>\n      <td>binance</td>\n      <td>BTCUSDT</td>\n      <td>113492.94</td>\n      <td>USDT</td>\n      <td>0.01344</td>\n      <td>5.254305e+09</td>\n    </tr>\n    <tr>\n      <th>4</th>\n      <td>NaN</td>\n      <td>2025-09-24T20:31:38.082035+00:00</td>\n      <td>binance</td>\n      <td>BTCUSDT</td>\n      <td>113492.94</td>\n      <td>USDT</td>\n      <td>0.00014</td>\n      <td>5.254305e+09</td>\n    </tr>\n  </tbody>\n</table>\n</div>",
            "text/plain": "   _probe                                ts   source instrument      price  \\\n0     1.0  2025-09-24T20:31:35.921395+00:00      NaN        NaN        NaN   \n1     NaN  2025-09-24T20:31:38.079193+00:00  binance    BTCUSDT  113492.94   \n2     NaN  2025-09-24T20:31:38.080583+00:00  binance    BTCUSDT  113492.94   \n3     NaN  2025-09-24T20:31:38.081120+00:00  binance    BTCUSDT  113492.94   \n4     NaN  2025-09-24T20:31:38.082035+00:00  binance    BTCUSDT  113492.94   \n\n  currency      qty      trade_id  \n0      NaN      NaN           NaN  \n1     USDT  0.00041  5.254305e+09  \n2     USDT  0.00080  5.254305e+09  \n3     USDT  0.01344  5.254305e+09  \n4     USDT  0.00014  5.254305e+09  "
          },
          "metadata": {}
        },
        {
          "output_type": "stream",
          "name": "stdout",
          "text": "POLL: ../../data/poll_binance_BTCUSDT_2025-09-24.jsonl\n"
        },
        {
          "output_type": "display_data",
          "data": {
            "text/html": "<div>\n<style scoped>\n    .dataframe tbody tr th:only-of-type {\n        vertical-align: middle;\n    }\n\n    .dataframe tbody tr th {\n        vertical-align: top;\n    }\n\n    .dataframe thead th {\n        text-align: right;\n    }\n</style>\n<table border=\"1\" class=\"dataframe\">\n  <thead>\n    <tr style=\"text-align: right;\">\n      <th></th>\n      <th>ts</th>\n      <th>source</th>\n      <th>instrument</th>\n      <th>price_usd</th>\n    </tr>\n  </thead>\n  <tbody>\n    <tr>\n      <th>0</th>\n      <td>2025-09-24T20:38:10.342191+00:00</td>\n      <td>binance</td>\n      <td>BTCUSDT</td>\n      <td>113509.73</td>\n    </tr>\n    <tr>\n      <th>1</th>\n      <td>2025-09-24T20:38:15.605021+00:00</td>\n      <td>binance</td>\n      <td>BTCUSDT</td>\n      <td>113509.73</td>\n    </tr>\n    <tr>\n      <th>2</th>\n      <td>2025-09-24T20:38:20.866912+00:00</td>\n      <td>binance</td>\n      <td>BTCUSDT</td>\n      <td>113509.74</td>\n    </tr>\n    <tr>\n      <th>3</th>\n      <td>2025-09-24T20:38:26.129273+00:00</td>\n      <td>binance</td>\n      <td>BTCUSDT</td>\n      <td>113504.04</td>\n    </tr>\n    <tr>\n      <th>4</th>\n      <td>2025-09-24T20:38:31.390429+00:00</td>\n      <td>binance</td>\n      <td>BTCUSDT</td>\n      <td>113483.82</td>\n    </tr>\n  </tbody>\n</table>\n</div>",
            "text/plain": "                                 ts   source instrument  price_usd\n0  2025-09-24T20:38:10.342191+00:00  binance    BTCUSDT  113509.73\n1  2025-09-24T20:38:15.605021+00:00  binance    BTCUSDT  113509.73\n2  2025-09-24T20:38:20.866912+00:00  binance    BTCUSDT  113509.74\n3  2025-09-24T20:38:26.129273+00:00  binance    BTCUSDT  113504.04\n4  2025-09-24T20:38:31.390429+00:00  binance    BTCUSDT  113483.82"
          },
          "metadata": {}
        }
      ],
      "execution_count": null,
      "metadata": {
        "id": "compare"
      },
      "id": "c2ca20e6-0f67-4e03-bcbe-79a191668515"
    },
    {
      "cell_type": "markdown",
      "source": [
        "## 5) Reflexión (respuestas cortas)\n",
        "**¿Quién tiene menor latencia?**  \n",
        "\n",
        "**¿Qué pasa si el stream se cae?** \n",
        "\n",
        "**¿Cuál genera más duplicados o huecos temporales?**\n"
      ],
      "metadata": {},
      "id": "c60818d0-25a4-4606-a2d1-a28ad7210bcb"
    },
    {
      "cell_type": "markdown",
      "source": [],
      "metadata": {},
      "id": "6e28e336"
    }
  ],
  "metadata": {
    "kernelspec": {
      "display_name": "fundamentos-ingenieria-datos",
      "language": "python",
      "name": "python3"
    },
    "language_info": {
      "codemirror_mode": {
        "name": "ipython",
        "version": 3
      },
      "file_extension": ".py",
      "mimetype": "text/x-python",
      "name": "python",
      "nbconvert_exporter": "python",
      "pygments_lexer": "ipython3",
      "version": "3.13.7"
    },
    "nteract": {
      "version": "nteract-front-end@1.0.0"
    }
  },
  "nbformat": 4,
  "nbformat_minor": 5
}