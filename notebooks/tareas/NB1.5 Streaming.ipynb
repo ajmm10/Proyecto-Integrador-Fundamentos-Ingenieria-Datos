{
  "cells": [
    {
      "cell_type": "markdown",
      "id": "3ea1118f-cf95-430c-a3c3-86e8f2149cfc",
      "metadata": {},
      "source": [
        "# NB1.5 — Streaming vs Batch (WebSockets & Polling)\n",
        "\n",
        "En esta práctica implementamos **Streaming** con WebSockets y **Batch frecuente** con HTTP Polling. Guardaremos todo en **JSON Lines** en `../../data/` y compararemos latencia y continuidad.\n",
        "\n",
        "**Objetivos**\n",
        "- Entender diferencias clave **Batch vs Streaming**.\n",
        "- Ejecutar un cliente **WebSocket** para ingesta continua.\n",
        "- Ejecutar **HTTP Polling** como micro-batch.\n",
        "- Comparar resultados en pandas.\n"
      ]
    },
    {
      "cell_type": "markdown",
      "id": "df3f91d6-4f6c-4075-88d3-ac1b70809413",
      "metadata": {},
      "source": [
        "## 1) Dependencias\n",
        "Instalamos librerías requeridas para los scripts en `src/streaming/`."
      ]
    },
    {
      "cell_type": "code",
      "execution_count": 4,
      "id": "e982ca10-e6d9-43ea-9006-46dbe487b0f3",
      "metadata": {
        "id": "deps"
      },
      "outputs": [],
      "source": [
        "!pip install -q websockets requests pandas"
      ]
    },
    {
      "cell_type": "markdown",
      "id": "7f18f62a-6978-485c-9d06-87803c4b7eae",
      "metadata": {},
      "source": [
        "## 2) Streaming (WebSocket)\n",
        "\n",
        "**Salida:** `../../data/stream_ws_YYYY-MM-DD.jsonl`"
      ]
    },
    {
      "cell_type": "code",
      "execution_count": 1,
      "id": "ff3ccd59-71ba-4a0b-86ea-11212c527401",
      "metadata": {
        "id": "stream"
      },
      "outputs": [
        {
          "name": "stdout",
          "output_type": "stream",
          "text": [
            "Falta 'websockets'. Instala con: pip install websockets\n"
          ]
        }
      ],
      "source": [
        "# Limita duración/eventos para la clase\n",
        "!WS_MAX_EVENTS=150 WS_MAX_SECONDS=120 python ../../src/streaming/stream_dual_ws.py"
      ]
    },
    {
      "cell_type": "markdown",
      "id": "23dc2d84-0075-48b8-b723-602ccd55cef5",
      "metadata": {},
      "source": [
        "## 3) Polling (HTTP)\n",
        "\n",
        "**Salida:** `../../data/poll_bitcoin_YYYY-MM-DD.jsonl`"
      ]
    },
    {
      "cell_type": "code",
      "execution_count": 2,
      "id": "fad575dc-4ea9-4e77-a60d-d25e83baaa0b",
      "metadata": {
        "id": "poll"
      },
      "outputs": [
        {
          "name": "stdout",
          "output_type": "stream",
          "text": [
            "[POLL] 1/20 -> {'ts': '2025-09-27T18:33:06.467880+00:00', 'source': 'binance', 'instrument': 'BTCUSDT', 'price_usd': 109397.11}\n",
            "[POLL] 2/20 -> {'ts': '2025-09-27T18:33:11.775899+00:00', 'source': 'binance', 'instrument': 'BTCUSDT', 'price_usd': 109397.11}\n",
            "[POLL] 3/20 -> {'ts': '2025-09-27T18:33:17.087457+00:00', 'source': 'binance', 'instrument': 'BTCUSDT', 'price_usd': 109397.11}\n",
            "[POLL] 4/20 -> {'ts': '2025-09-27T18:33:22.432894+00:00', 'source': 'binance', 'instrument': 'BTCUSDT', 'price_usd': 109397.11}\n",
            "[POLL] 5/20 -> {'ts': '2025-09-27T18:33:27.753670+00:00', 'source': 'binance', 'instrument': 'BTCUSDT', 'price_usd': 109397.12}\n",
            "[POLL] 6/20 -> {'ts': '2025-09-27T18:33:33.081616+00:00', 'source': 'binance', 'instrument': 'BTCUSDT', 'price_usd': 109397.12}\n",
            "[POLL] 7/20 -> {'ts': '2025-09-27T18:33:38.401889+00:00', 'source': 'binance', 'instrument': 'BTCUSDT', 'price_usd': 109397.12}\n",
            "[POLL] 8/20 -> {'ts': '2025-09-27T18:33:43.729264+00:00', 'source': 'binance', 'instrument': 'BTCUSDT', 'price_usd': 109397.11}\n",
            "[POLL] 9/20 -> {'ts': '2025-09-27T18:33:49.048304+00:00', 'source': 'binance', 'instrument': 'BTCUSDT', 'price_usd': 109397.11}\n",
            "[POLL] 10/20 -> {'ts': '2025-09-27T18:33:54.362656+00:00', 'source': 'binance', 'instrument': 'BTCUSDT', 'price_usd': 109397.11}\n",
            "[POLL] 11/20 -> {'ts': '2025-09-27T18:33:59.729394+00:00', 'source': 'binance', 'instrument': 'BTCUSDT', 'price_usd': 109397.12}\n",
            "[POLL] 12/20 -> {'ts': '2025-09-27T18:34:05.135162+00:00', 'source': 'binance', 'instrument': 'BTCUSDT', 'price_usd': 109397.12}\n",
            "[POLL] 13/20 -> {'ts': '2025-09-27T18:34:10.489561+00:00', 'source': 'binance', 'instrument': 'BTCUSDT', 'price_usd': 109397.11}\n",
            "[POLL] 14/20 -> {'ts': '2025-09-27T18:34:16.063264+00:00', 'source': 'binance', 'instrument': 'BTCUSDT', 'price_usd': 109397.12}\n",
            "[POLL] 15/20 -> {'ts': '2025-09-27T18:34:21.486668+00:00', 'source': 'binance', 'instrument': 'BTCUSDT', 'price_usd': 109397.12}\n",
            "[POLL] 16/20 -> {'ts': '2025-09-27T18:34:26.789960+00:00', 'source': 'binance', 'instrument': 'BTCUSDT', 'price_usd': 109397.11}\n",
            "[POLL] 17/20 -> {'ts': '2025-09-27T18:34:32.076527+00:00', 'source': 'binance', 'instrument': 'BTCUSDT', 'price_usd': 109397.12}\n",
            "[POLL] 18/20 -> {'ts': '2025-09-27T18:34:37.342686+00:00', 'source': 'binance', 'instrument': 'BTCUSDT', 'price_usd': 109397.11}\n",
            "[POLL] 19/20 -> {'ts': '2025-09-27T18:34:42.646904+00:00', 'source': 'binance', 'instrument': 'BTCUSDT', 'price_usd': 109397.12}\n",
            "[POLL] 20/20 -> {'ts': '2025-09-27T18:34:47.910520+00:00', 'source': 'binance', 'instrument': 'BTCUSDT', 'price_usd': 109397.12}\n",
            "[DONE] Archivo: /Users/ACER/Documents/Tecnologico de Software/7mo cuatrimestre/analisis de datos/conda/fundamentos-ingenieria-datos/data/raw/poll_binance_BTCUSDT_2025-09-27.jsonl\n"
          ]
        }
      ],
      "source": [
        "!python ../../src/streaming/poll_coincap_http.py"
      ]
    },
    {
      "cell_type": "markdown",
      "id": "815d5792-f3c8-4e8d-82e6-e7df5ac6af28",
      "metadata": {},
      "source": [
        "## 4) Cargar y comparar en pandas\n",
        "Leemos ambos `.jsonl` y observamos diferencias de granularidad/latencia (aprox.)."
      ]
    },
    {
      "cell_type": "code",
      "execution_count": 7,
      "id": "f9b8e235-f1d6-4ead-8b08-87ac16de664e",
      "metadata": {
        "id": "compare"
      },
      "outputs": [
        {
          "name": "stdout",
          "output_type": "stream",
          "text": [
            "No se encontró ningún archivo de streaming (stream_ws_*.jsonl)\n",
            "POLL: ../../data/raw/poll_binance_BTCUSDT_2025-09-27.jsonl\n",
            "POLL: ../../data/raw/poll_binance_BTCUSDT_2025-09-27.jsonl\n"
          ]
        },
        {
          "data": {
            "text/html": [
              "<div>\n",
              "<style scoped>\n",
              "    .dataframe tbody tr th:only-of-type {\n",
              "        vertical-align: middle;\n",
              "    }\n",
              "\n",
              "    .dataframe tbody tr th {\n",
              "        vertical-align: top;\n",
              "    }\n",
              "\n",
              "    .dataframe thead th {\n",
              "        text-align: right;\n",
              "    }\n",
              "</style>\n",
              "<table border=\"1\" class=\"dataframe\">\n",
              "  <thead>\n",
              "    <tr style=\"text-align: right;\">\n",
              "      <th></th>\n",
              "      <th>ts</th>\n",
              "      <th>source</th>\n",
              "      <th>instrument</th>\n",
              "      <th>price_usd</th>\n",
              "    </tr>\n",
              "  </thead>\n",
              "  <tbody>\n",
              "    <tr>\n",
              "      <th>0</th>\n",
              "      <td>2025-09-27T18:33:06.467880+00:00</td>\n",
              "      <td>binance</td>\n",
              "      <td>BTCUSDT</td>\n",
              "      <td>109397.11</td>\n",
              "    </tr>\n",
              "    <tr>\n",
              "      <th>1</th>\n",
              "      <td>2025-09-27T18:33:11.775899+00:00</td>\n",
              "      <td>binance</td>\n",
              "      <td>BTCUSDT</td>\n",
              "      <td>109397.11</td>\n",
              "    </tr>\n",
              "    <tr>\n",
              "      <th>2</th>\n",
              "      <td>2025-09-27T18:33:17.087457+00:00</td>\n",
              "      <td>binance</td>\n",
              "      <td>BTCUSDT</td>\n",
              "      <td>109397.11</td>\n",
              "    </tr>\n",
              "    <tr>\n",
              "      <th>3</th>\n",
              "      <td>2025-09-27T18:33:22.432894+00:00</td>\n",
              "      <td>binance</td>\n",
              "      <td>BTCUSDT</td>\n",
              "      <td>109397.11</td>\n",
              "    </tr>\n",
              "    <tr>\n",
              "      <th>4</th>\n",
              "      <td>2025-09-27T18:33:27.753670+00:00</td>\n",
              "      <td>binance</td>\n",
              "      <td>BTCUSDT</td>\n",
              "      <td>109397.12</td>\n",
              "    </tr>\n",
              "  </tbody>\n",
              "</table>\n",
              "</div>"
            ],
            "text/plain": [
              "                                 ts   source instrument  price_usd\n",
              "0  2025-09-27T18:33:06.467880+00:00  binance    BTCUSDT  109397.11\n",
              "1  2025-09-27T18:33:11.775899+00:00  binance    BTCUSDT  109397.11\n",
              "2  2025-09-27T18:33:17.087457+00:00  binance    BTCUSDT  109397.11\n",
              "3  2025-09-27T18:33:22.432894+00:00  binance    BTCUSDT  109397.11\n",
              "4  2025-09-27T18:33:27.753670+00:00  binance    BTCUSDT  109397.12"
            ]
          },
          "metadata": {},
          "output_type": "display_data"
        }
      ],
      "source": [
        "from pathlib import Path\n",
        "import pandas as pd\n",
        "\n",
        "data_dir = Path(\"../../data/raw\")\n",
        "\n",
        "# STREAM\n",
        "stream_files = sorted(data_dir.glob(\"stream_ws_*.jsonl\"))\n",
        "if stream_files:\n",
        "    stream_file = stream_files[-1]\n",
        "    df_stream = pd.read_json(stream_file, lines=True)\n",
        "    print(\"STREAM:\", stream_file)\n",
        "    display(df_stream.head())\n",
        "else:\n",
        "    print(\"No se encontró ningún archivo de streaming (stream_ws_*.jsonl)\")\n",
        "\n",
        "# POLL\n",
        "poll_files = sorted(list(data_dir.glob(\"poll_binance_*.jsonl\")) + list(data_dir.glob(\"poll_coincap_*.jsonl\")))\n",
        "if poll_files:\n",
        "    poll_file = poll_files[-1]\n",
        "    df_poll = pd.read_json(poll_file, lines=True)\n",
        "    print(\"POLL:\", poll_file)\n",
        "    display(df_poll.head())\n",
        "else:\n",
        "    print(\"No se encontró ningún archivo de polling (poll_binance_*.jsonl o poll_coincap_*.jsonl)\")\n"
      ]
    },
    {
      "cell_type": "markdown",
      "id": "1e0a3345-ca83-48c9-ab78-dc2a09b83da1",
      "metadata": {},
      "source": [
        "## 5) Reflexión (respuestas cortas)\n",
        "**¿Quién tiene menor latencia?**  \n",
        "\n",
        "**¿Qué pasa si el stream se cae?** \n",
        "\n",
        "**¿Cuál genera más duplicados o huecos temporales?**\n"
      ]
    },
    {
      "cell_type": "markdown",
      "id": "6139b06b",
      "metadata": {},
      "source": [
        "**¿Quién tiene menor latencia?**\n",
        "El streaming (WebSocket) tiene menor latencia porque recibe datos en tiempo real, mientras que el polling depende del intervalo de consulta.\n",
        "\n",
        "**¿Qué pasa si el stream se cae?**\n",
        "Si el stream se cae, se pierde la conexión y dejan de recibirse datos hasta que se reconecte. Es importante implementar reconexión automática para evitar huecos.\n",
        "\n",
        "**¿Cuál genera más duplicados o huecos temporales?**\n",
        "El polling puede generar más huecos temporales (por el intervalo entre consultas) y duplicados si el endpoint devuelve datos repetidos. El streaming es más continuo, pero puede tener huecos si la conexión falla."
      ]
    },
    {
      "cell_type": "markdown",
      "id": "6e28e336",
      "metadata": {},
      "source": [
        "**¿Quién tiene menor latencia?**  \n",
        "El streaming (WebSocket) tiene menor latencia porque recibe datos en tiempo real, mientras que el polling depende del intervalo de consulta.\n",
        "\n",
        "**¿Qué pasa si el stream se cae?**  \n",
        "Si el stream se cae, se pierde la conexión y dejan de recibirse datos hasta que se reconecte. Es importante implementar reconexión automática para evitar huecos.\n",
        "\n",
        "**¿Cuál genera más duplicados o huecos temporales?**  \n",
        "El polling puede generar más huecos temporales (por el intervalo entre consultas) y duplicados si el endpoint devuelve datos repetidos. El streaming es más continuo, pero puede tener huecos si la conexión falla."
      ]
    }
  ],
  "metadata": {
    "kernelspec": {
      "display_name": "fundamentos_ingenieria_software",
      "language": "python",
      "name": "python3"
    },
    "language_info": {
      "codemirror_mode": {
        "name": "ipython",
        "version": 3
      },
      "file_extension": ".py",
      "mimetype": "text/x-python",
      "name": "python",
      "nbconvert_exporter": "python",
      "pygments_lexer": "ipython3",
      "version": "3.13.7"
    },
    "nteract": {
      "version": "nteract-front-end@1.0.0"
    }
  },
  "nbformat": 4,
  "nbformat_minor": 5
}
